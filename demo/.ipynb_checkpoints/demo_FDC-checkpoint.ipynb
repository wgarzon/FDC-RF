{
 "cells": [
  {
   "cell_type": "code",
   "execution_count": 1,
   "id": "f311404a",
   "metadata": {},
   "outputs": [],
   "source": [
    "#%pip install ipyparallel\n",
    "#%pip install Cython -U  imbalanced-learn scikit-learn==0.22"
   ]
  },
  {
   "cell_type": "code",
   "execution_count": 2,
   "id": "3f7c2265",
   "metadata": {},
   "outputs": [],
   "source": [
    "import pandas as pd\n",
    "import random\n",
    "import warnings\n",
    "warnings.filterwarnings('ignore')\n",
    "import seaborn as sns\n",
    "\n",
    "#import FDC_RF functionalities\n",
    "from FDC_RF import *\n",
    "from main_FDC import *"
   ]
  },
  {
   "cell_type": "code",
   "execution_count": 3,
   "id": "48274708",
   "metadata": {},
   "outputs": [],
   "source": [
    "Sites = [1,2]\n",
    "#data1 = pd.read_csv(\"small.csv\")\n",
    "#data2 = pd.read_csv(\"small.csv\")"
   ]
  },
  {
   "cell_type": "code",
   "execution_count": 4,
   "id": "ca4a2cde",
   "metadata": {},
   "outputs": [
    {
     "name": "stdout",
     "output_type": "stream",
     "text": [
      "\n",
      "...Reading Config File!!!\n"
     ]
    }
   ],
   "source": [
    "dictIni = initializeEnv()"
   ]
  },
  {
   "cell_type": "code",
   "execution_count": 5,
   "id": "708a19a2",
   "metadata": {},
   "outputs": [
    {
     "name": "stdout",
     "output_type": "stream",
     "text": [
      "***** Processing 1 *****\n",
      "Reading Data Set!!!\n",
      "Number of Samples:240, Features:2054\n",
      "... Generating Local Model\n",
      "Number of cores: 8\n",
      "Threshold used:0.57\n",
      "No. nModel: 1 162\n",
      "No. nModel: 0 38\n",
      "PercNo of Best models:162. No of Bad models:38\n",
      "Share Models stored on disk!!!\n",
      "Threshold used MEDIAN:0.7\n",
      "No. nModel: 1 104\n",
      "No. nModel: 0 96\n",
      "MednNo of Best models:104. No of Bad models:96\n",
      "Share Models stored on disk!!!\n",
      "Local Model stored on disk!!!\n",
      "***** Processing 2 *****\n",
      "Reading Data Set!!!\n",
      "Number of Samples:240, Features:2054\n",
      "... Generating Local Model\n",
      "Number of cores: 8\n",
      "Threshold used:0.54\n",
      "No. nModel: 1 161\n",
      "No. nModel: 0 39\n",
      "PercNo of Best models:161. No of Bad models:39\n",
      "Share Models stored on disk!!!\n",
      "Threshold used MEDIAN:0.69\n",
      "No. nModel: 1 101\n",
      "No. nModel: 0 99\n",
      "MednNo of Best models:101. No of Bad models:99\n",
      "Share Models stored on disk!!!\n",
      "Local Model stored on disk!!!\n",
      "All testing files generated to be shared with all sites\n"
     ]
    }
   ],
   "source": [
    "#Load data, build and group local forests\n",
    "for site in Sites:\n",
    "    Xtrain, Xtest, ytrain, ytest = LoadData(str(site),dictIni[\"dsName\"], dictIni[\"shareMDir\"])\n",
    "    mdlsByAcc, fdcMdl, delta = genLocalModel(Xtrain, ytrain,dictIni,0.8,str(site))\n",
    "\n",
    "aggDataSets(dictIni[\"shareMDir\"])"
   ]
  },
  {
   "cell_type": "code",
   "execution_count": 6,
   "id": "2678373e",
   "metadata": {},
   "outputs": [
    {
     "name": "stdout",
     "output_type": "stream",
     "text": [
      "... Generating Joining Model\n",
      "Local Model stored on disk!!!\n",
      "... Generating Best Models\n",
      "Local Model stored on disk!!!\n",
      "Local Model stored on disk!!!\n",
      "Two models generated Successful!!!\n"
     ]
    }
   ],
   "source": [
    "#Ensemble all grouped models per site\n",
    "ensembleModels(\"site.ini\",dictIni[\"shareMDir\"])"
   ]
  },
  {
   "cell_type": "code",
   "execution_count": 7,
   "id": "0bc2ab48",
   "metadata": {},
   "outputs": [
    {
     "name": "stdout",
     "output_type": "stream",
     "text": [
      "Testing  Collab Model:,Xtest:(120, 2052),ytest:(120,)\n",
      "... Evaluating Join and Best Collaborative Model\n",
      "No. Estimators 800\n",
      "No. Estimators 644\n",
      "No. Estimators 415\n"
     ]
    }
   ],
   "source": [
    "#Evaluate the three versions of Collaborative Models\n",
    "repJn, repBPr, repMdn = evalCollabModels(\"1\",dictIni[\"shareMDir\"])"
   ]
  },
  {
   "cell_type": "code",
   "execution_count": 8,
   "id": "08523fd1",
   "metadata": {},
   "outputs": [
    {
     "name": "stdout",
     "output_type": "stream",
     "text": [
      "Reading Data Set!!!\n",
      "Number of Samples:240, Features:2054\n",
      "... Generating Central Model\n",
      "Number of cores: 8\n",
      "No. nModel: 1 160\n",
      "No. nModel: 0 40\n",
      "PercNo of Best models:160. No of Bad models:40\n",
      "Share Models stored on disk!!!\n",
      "No. nModel: 1 102\n",
      "No. nModel: 0 98\n",
      "MednNo of Best models:102. No of Bad models:98\n",
      "Share Models stored on disk!!!\n",
      "Local Model stored on disk!!!\n",
      "Central time training the model: 0.42696\n",
      "... Evaluating Central Model\n",
      "Testing  Central Model:,Xtest:(120, 2052),ytest:(120,)\n",
      "No. Estimators 200\n"
     ]
    },
    {
     "ename": "FileNotFoundError",
     "evalue": "[Errno 2] No such file or directory: 'shareModels/centralModel_Best.MednAccmodel'",
     "output_type": "error",
     "traceback": [
      "\u001b[0;31m---------------------------------------------------------------------------\u001b[0m",
      "\u001b[0;31mFileNotFoundError\u001b[0m                         Traceback (most recent call last)",
      "\u001b[0;32m<ipython-input-8-54b24b592de2>\u001b[0m in \u001b[0;36m<module>\u001b[0;34m\u001b[0m\n\u001b[1;32m      5\u001b[0m \u001b[0mprint\u001b[0m\u001b[0;34m(\u001b[0m\u001b[0;34m\"Central time training the model:\"\u001b[0m\u001b[0;34m,\u001b[0m\u001b[0mstr\u001b[0m\u001b[0;34m(\u001b[0m\u001b[0mdelta\u001b[0m\u001b[0;34m.\u001b[0m\u001b[0mtotal_seconds\u001b[0m\u001b[0;34m(\u001b[0m\u001b[0;34m)\u001b[0m\u001b[0;34m)\u001b[0m\u001b[0;34m)\u001b[0m\u001b[0;34m\u001b[0m\u001b[0;34m\u001b[0m\u001b[0m\n\u001b[1;32m      6\u001b[0m \u001b[0;31m#Evaluate the three versions of Collaborative Models\u001b[0m\u001b[0;34m\u001b[0m\u001b[0;34m\u001b[0m\u001b[0;34m\u001b[0m\u001b[0m\n\u001b[0;32m----> 7\u001b[0;31m \u001b[0mcentJn\u001b[0m\u001b[0;34m,\u001b[0m \u001b[0mcentBPr\u001b[0m\u001b[0;34m,\u001b[0m \u001b[0mcentMdn\u001b[0m \u001b[0;34m=\u001b[0m \u001b[0mevaluateCentralModel\u001b[0m\u001b[0;34m(\u001b[0m\u001b[0;34m\"C\"\u001b[0m\u001b[0;34m,\u001b[0m\u001b[0mdictIni\u001b[0m\u001b[0;34m[\u001b[0m\u001b[0;34m\"shareMDir\"\u001b[0m\u001b[0;34m]\u001b[0m\u001b[0;34m)\u001b[0m\u001b[0;34m\u001b[0m\u001b[0;34m\u001b[0m\u001b[0m\n\u001b[0m",
      "\u001b[0;32m~/Documents/GitHub/FDC-scenarios/demo/main_FDC.py\u001b[0m in \u001b[0;36mevaluateCentralModel\u001b[0;34m(site, shareMDir, show)\u001b[0m\n\u001b[1;32m    142\u001b[0m     \u001b[0m_\u001b[0m\u001b[0;34m,\u001b[0m \u001b[0m_\u001b[0m\u001b[0;34m,\u001b[0m \u001b[0m_\u001b[0m\u001b[0;34m,\u001b[0m \u001b[0mreportJoin\u001b[0m \u001b[0;34m=\u001b[0m \u001b[0mfdc\u001b[0m\u001b[0;34m.\u001b[0m\u001b[0mScoreModel\u001b[0m\u001b[0;34m(\u001b[0m\u001b[0;34m\"CentrModel\"\u001b[0m\u001b[0;34m,\u001b[0m \u001b[0msite\u001b[0m\u001b[0;34m,\u001b[0m \u001b[0mshareMDir\u001b[0m\u001b[0;34m,\u001b[0m \u001b[0mCompleteModel\u001b[0m\u001b[0;34m,\u001b[0m\u001b[0mXtest\u001b[0m\u001b[0;34m,\u001b[0m\u001b[0mytest\u001b[0m\u001b[0;34m,\u001b[0m\u001b[0mdim\u001b[0m\u001b[0;34m,\u001b[0m\u001b[0mshow\u001b[0m\u001b[0;34m)\u001b[0m\u001b[0;34m\u001b[0m\u001b[0;34m\u001b[0m\u001b[0m\n\u001b[1;32m    143\u001b[0m \u001b[0;34m\u001b[0m\u001b[0m\n\u001b[0;32m--> 144\u001b[0;31m     \u001b[0mBestCentralModel\u001b[0m \u001b[0;34m=\u001b[0m \u001b[0mload\u001b[0m\u001b[0;34m(\u001b[0m\u001b[0mshareMDir\u001b[0m\u001b[0;34m+\u001b[0m\u001b[0;34m\"centralModel_Best.MednAccmodel\"\u001b[0m\u001b[0;34m)\u001b[0m\u001b[0;34m\u001b[0m\u001b[0;34m\u001b[0m\u001b[0m\n\u001b[0m\u001b[1;32m    145\u001b[0m     \u001b[0m_\u001b[0m\u001b[0;34m,\u001b[0m \u001b[0m_\u001b[0m\u001b[0;34m,\u001b[0m \u001b[0m_\u001b[0m\u001b[0;34m,\u001b[0m \u001b[0mreportBPerc\u001b[0m \u001b[0;34m=\u001b[0m \u001b[0mfdc\u001b[0m\u001b[0;34m.\u001b[0m\u001b[0mScoreModel\u001b[0m\u001b[0;34m(\u001b[0m\u001b[0;34m\"CentrMednMdl\"\u001b[0m\u001b[0;34m,\u001b[0m \u001b[0msite\u001b[0m\u001b[0;34m,\u001b[0m \u001b[0mshareMDir\u001b[0m\u001b[0;34m,\u001b[0m \u001b[0mBestCentralModel\u001b[0m\u001b[0;34m,\u001b[0m\u001b[0mXtest\u001b[0m\u001b[0;34m,\u001b[0m\u001b[0mytest\u001b[0m\u001b[0;34m,\u001b[0m\u001b[0mdim\u001b[0m\u001b[0;34m,\u001b[0m\u001b[0mshow\u001b[0m\u001b[0;34m)\u001b[0m\u001b[0;34m\u001b[0m\u001b[0;34m\u001b[0m\u001b[0m\n\u001b[1;32m    146\u001b[0m \u001b[0;34m\u001b[0m\u001b[0m\n",
      "\u001b[0;32m~/.local/lib/python3.8/site-packages/joblib/numpy_pickle.py\u001b[0m in \u001b[0;36mload\u001b[0;34m(filename, mmap_mode)\u001b[0m\n\u001b[1;32m    575\u001b[0m             \u001b[0mobj\u001b[0m \u001b[0;34m=\u001b[0m \u001b[0m_unpickle\u001b[0m\u001b[0;34m(\u001b[0m\u001b[0mfobj\u001b[0m\u001b[0;34m)\u001b[0m\u001b[0;34m\u001b[0m\u001b[0;34m\u001b[0m\u001b[0m\n\u001b[1;32m    576\u001b[0m     \u001b[0;32melse\u001b[0m\u001b[0;34m:\u001b[0m\u001b[0;34m\u001b[0m\u001b[0;34m\u001b[0m\u001b[0m\n\u001b[0;32m--> 577\u001b[0;31m         \u001b[0;32mwith\u001b[0m \u001b[0mopen\u001b[0m\u001b[0;34m(\u001b[0m\u001b[0mfilename\u001b[0m\u001b[0;34m,\u001b[0m \u001b[0;34m'rb'\u001b[0m\u001b[0;34m)\u001b[0m \u001b[0;32mas\u001b[0m \u001b[0mf\u001b[0m\u001b[0;34m:\u001b[0m\u001b[0;34m\u001b[0m\u001b[0;34m\u001b[0m\u001b[0m\n\u001b[0m\u001b[1;32m    578\u001b[0m             \u001b[0;32mwith\u001b[0m \u001b[0m_read_fileobject\u001b[0m\u001b[0;34m(\u001b[0m\u001b[0mf\u001b[0m\u001b[0;34m,\u001b[0m \u001b[0mfilename\u001b[0m\u001b[0;34m,\u001b[0m \u001b[0mmmap_mode\u001b[0m\u001b[0;34m)\u001b[0m \u001b[0;32mas\u001b[0m \u001b[0mfobj\u001b[0m\u001b[0;34m:\u001b[0m\u001b[0;34m\u001b[0m\u001b[0;34m\u001b[0m\u001b[0m\n\u001b[1;32m    579\u001b[0m                 \u001b[0;32mif\u001b[0m \u001b[0misinstance\u001b[0m\u001b[0;34m(\u001b[0m\u001b[0mfobj\u001b[0m\u001b[0;34m,\u001b[0m \u001b[0mstr\u001b[0m\u001b[0;34m)\u001b[0m\u001b[0;34m:\u001b[0m\u001b[0;34m\u001b[0m\u001b[0;34m\u001b[0m\u001b[0m\n",
      "\u001b[0;31mFileNotFoundError\u001b[0m: [Errno 2] No such file or directory: 'shareModels/centralModel_Best.MednAccmodel'"
     ]
    }
   ],
   "source": [
    "#Training the model over aggregated data\n",
    "centralDS = dictIni[\"dsName\"]\n",
    "Xtrain, Xtest, ytrain, ytest = preprocess_ds(centralDS, dictIni[\"ds_dir\"], \"Central\", True, False)\n",
    "fdcMdl, delta = getCentralModel(Xtrain, ytrain,dictIni,0.8,\"Central\")\n",
    "print(\"Central time training the model:\",str(delta.total_seconds()))\n",
    "#Evaluate the three versions of Collaborative Models\n",
    "centJn, centBPr, centMdn = evaluateCentralModel(\"Central\",dictIni[\"shareMDir\"])"
   ]
  },
  {
   "cell_type": "code",
   "execution_count": null,
   "id": "9f617811",
   "metadata": {},
   "outputs": [],
   "source": [
    "fig, ax =plt.subplots(2,2,figsize=(20,15))\n",
    "sns.heatmap(pd.DataFrame(repJn).iloc[:-1, :].T, ax=ax[0][0], annot=True)\n",
    "ax[0][0].set_title('Classification Report Join Model')\n",
    "sns.heatmap(pd.DataFrame(repBPr).iloc[:-1, :].T, ax=ax[0][1], annot=True)\n",
    "ax[0][1].set_title('Classification Report Best Perc Model')\n",
    "sns.heatmap(pd.DataFrame(repMdn).iloc[:-1, :].T, ax=ax[1][0], annot=True)\n",
    "ax[1][0].set_title('Classification Report Median Model')\n",
    "plt.show()"
   ]
  },
  {
   "cell_type": "code",
   "execution_count": null,
   "id": "3ef386ee",
   "metadata": {},
   "outputs": [],
   "source": []
  }
 ],
 "metadata": {
  "kernelspec": {
   "display_name": "Python 3",
   "language": "python",
   "name": "python3"
  },
  "language_info": {
   "codemirror_mode": {
    "name": "ipython",
    "version": 3
   },
   "file_extension": ".py",
   "mimetype": "text/x-python",
   "name": "python",
   "nbconvert_exporter": "python",
   "pygments_lexer": "ipython3",
   "version": "3.8.10"
  }
 },
 "nbformat": 4,
 "nbformat_minor": 5
}
